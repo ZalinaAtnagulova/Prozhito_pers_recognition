{
 "cells": [
  {
   "cell_type": "code",
   "execution_count": 1,
   "metadata": {
    "collapsed": true
   },
   "outputs": [],
   "source": [
    "from collections import defaultdict"
   ]
  },
  {
   "cell_type": "code",
   "execution_count": 2,
   "metadata": {
    "collapsed": true
   },
   "outputs": [],
   "source": [
    "rows = []\n",
    "with open('rec_persons.csv', 'r', encoding='utf-8') as f:\n",
    "    train = f.readlines()\n",
    "for line in train:\n",
    "    line = line.strip('\\n')\n",
    "    sets = line.split(',#')\n",
    "    for setr in range(len(sets)):\n",
    "        sets[setr] = sets[setr].strip(',#')\n",
    "    rows.append(sets)"
   ]
  },
  {
   "cell_type": "code",
   "execution_count": 3,
   "metadata": {
    "collapsed": true
   },
   "outputs": [],
   "source": [
    "name_col = []\n",
    "for row in rows[1:]:\n",
    "    if len(row[4]) != 0:\n",
    "        name_col.append(row[4])"
   ]
  },
  {
   "cell_type": "code",
   "execution_count": 4,
   "metadata": {
    "collapsed": true
   },
   "outputs": [],
   "source": [
    "for row in name_col:\n",
    "    row1 = row.strip('\"')\n",
    "    row1 = row1.split(',')\n",
    "    name_col[name_col.index(row)] = row1"
   ]
  },
  {
   "cell_type": "code",
   "execution_count": 5,
   "metadata": {
    "collapsed": true
   },
   "outputs": [],
   "source": [
    "names_freq = []\n",
    "for name_set in name_col:\n",
    "    dic = {}\n",
    "    for name in name_set:\n",
    "        name = name.split('->')\n",
    "        dic[name[0]] = name[1]\n",
    "    names_freq.append(dic)"
   ]
  },
  {
   "cell_type": "code",
   "execution_count": 6,
   "metadata": {
    "collapsed": true
   },
   "outputs": [],
   "source": [
    "cases = defaultdict(int)\n",
    "for name_frq in names_freq:\n",
    "    for name in name_frq:\n",
    "        cases[name] += int(name_frq[name])"
   ]
  },
  {
   "cell_type": "code",
   "execution_count": 7,
   "metadata": {},
   "outputs": [
    {
     "data": {
      "text/plain": [
       "8909"
      ]
     },
     "execution_count": 7,
     "metadata": {},
     "output_type": "execute_result"
    }
   ],
   "source": [
    "len(cases)"
   ]
  },
  {
   "cell_type": "code",
   "execution_count": 8,
   "metadata": {},
   "outputs": [
    {
     "name": "stdout",
     "output_type": "stream",
     "text": [
      "385\tюрий\n",
      "292\tколя\n",
      "246\tсталин\n",
      "219\tвася\n",
      "210\tгорький\n",
      "206\tленин\n",
      "181\tнаташа\n",
      "178\tтолстой\n",
      "178\tорлов\n",
      "169\tхрущев\n",
      "168\tтаня\n",
      "143\tдостоевский\n",
      "135\tдима\n",
      "133\tгитлер\n",
      "119\tтургенев\n",
      "113\tельцин\n",
      "109\tандрей\n",
      "102\tпетя\n",
      "94\tалександр\n",
      "89\tнина\n",
      "88\tниколай\n",
      "88\tиванов\n",
      "85\tсаша\n",
      "83\tкостя\n",
      "83\tволодя\n",
      "83\tволконский\n",
      "81\tженя\n",
      "78\tвитгенштейн\n",
      "77\tденикин\n",
      "76\tгорбачев\n",
      "75\tваля\n",
      "75\tтася\n",
      "73\tмаяковский\n",
      "68\tпушкин\n",
      "68\tкононов\n",
      "66\tвиктор\n",
      "66\tмилюков\n",
      "65\tкутузов\n",
      "65\tляла\n",
      "64\tмороз\n",
      "63\tлисневский\n",
      "62\tнадя\n",
      "62\tсережа\n",
      "61\tмамченко\n",
      "58\tмиша\n",
      "58\tалексеев\n",
      "57\tалександр волков\n",
      "56\tсоня\n",
      "55\tбердяев\n",
      "55\tмарков\n",
      "54\tсергей\n",
      "53\tфадеев\n",
      "53\tкороленко\n",
      "52\tрузвельт\n",
      "52\tзина\n",
      "51\tборис\n",
      "51\tкеренский\n",
      "49\tблюхер\n",
      "49\tгоголь\n",
      "48\tалиса\n",
      "47\tмария\n",
      "47\tолег\n",
      "47\tпопов\n",
      "46\tюлька\n",
      "43\tвитька\n",
      "43\tмаркс\n",
      "42\tюра\n",
      "42\tмикоян\n",
      "42\tтроцкий\n",
      "42\tнасонов\n",
      "42\tзавалишин\n",
      "41\tелена\n",
      "41\tпетра\n",
      "41\tпавел\n",
      "41\tигорь\n",
      "41\tлуначарский\n",
      "41\tлеля\n",
      "41\tлюбимов\n",
      "40\tмаша\n",
      "40\tраспутин\n",
      "39\tголицын\n",
      "39\tпрасковья семёновна\n",
      "39\tяша\n",
      "38\tсергий\n",
      "38\tирина\n",
      "38\tмила\n",
      "38\tпротопопов\n",
      "38\tсергей сергеевич\n",
      "38\tврангеля\n",
      "37\tегоров\n",
      "36\tчичагов\n",
      "36\tбунин\n",
      "36\tандреев\n",
      "36\tэстера\n",
      "36\tиван\n",
      "36\tмережковский\n",
      "35\tдмитрий\n",
      "35\tмихаил\n",
      "35\tникита\n",
      "35\tалекс\n"
     ]
    }
   ],
   "source": [
    "for case in sorted(cases, key=lambda w: cases[w], reverse=True)[:100]:\n",
    "        print('{}\\t{}'.format(cases[case], case))"
   ]
  },
  {
   "cell_type": "code",
   "execution_count": null,
   "metadata": {
    "collapsed": true
   },
   "outputs": [],
   "source": []
  }
 ],
 "metadata": {
  "kernelspec": {
   "display_name": "Python 3",
   "language": "python",
   "name": "python3"
  },
  "language_info": {
   "codemirror_mode": {
    "name": "ipython",
    "version": 3
   },
   "file_extension": ".py",
   "mimetype": "text/x-python",
   "name": "python",
   "nbconvert_exporter": "python",
   "pygments_lexer": "ipython3",
   "version": "3.6.2"
  }
 },
 "nbformat": 4,
 "nbformat_minor": 2
}
