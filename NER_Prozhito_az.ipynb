{
 "cells": [
  {
   "cell_type": "code",
   "execution_count": 1,
   "metadata": {
    "collapsed": true
   },
   "outputs": [],
   "source": [
    "from natasha import NamesExtractor\n",
    "from collections import defaultdict\n",
    "import re\n",
    "from datetime import datetime"
   ]
  },
  {
   "cell_type": "code",
   "execution_count": 2,
   "metadata": {
    "collapsed": true
   },
   "outputs": [],
   "source": [
    "def Make_matches(text):\n",
    "    ne = NamesExtractor()\n",
    "    matches = ne(text)\n",
    "    return matches"
   ]
  },
  {
   "cell_type": "code",
   "execution_count": 3,
   "metadata": {
    "collapsed": true
   },
   "outputs": [],
   "source": [
    "def file_walker(file):\n",
    "    rows = []\n",
    "    with open(file, 'r', encoding='utf-8') as f:\n",
    "        train = f.readlines()\n",
    "    for line in train:\n",
    "        line = line.strip('\\n')\n",
    "        sets = line.split(',#')\n",
    "        for setr in range(len(sets)):\n",
    "            sets[setr] = sets[setr].strip(',#')\n",
    "        rows.append(sets)\n",
    "    return rows"
   ]
  },
  {
   "cell_type": "code",
   "execution_count": 4,
   "metadata": {
    "collapsed": true
   },
   "outputs": [],
   "source": [
    "#полный файл notes_beautiful_all.csv лежит тут https://yadi.sk/d/Op6Wgv8V3TxaEC\n",
    "#notes_beautiful10.csv -- файл с 10 000 записями, всего из почти 200 000\n",
    "notes = file_walker('notes_beautiful10.csv')"
   ]
  },
  {
   "cell_type": "code",
   "execution_count": 5,
   "metadata": {},
   "outputs": [
    {
     "data": {
      "text/plain": [
       "10000"
      ]
     },
     "execution_count": 5,
     "metadata": {},
     "output_type": "execute_result"
    }
   ],
   "source": [
    "len(notes)"
   ]
  },
  {
   "cell_type": "code",
   "execution_count": 6,
   "metadata": {
    "collapsed": true,
    "scrolled": true
   },
   "outputs": [],
   "source": [
    "def Extract_names(notes, all_names):\n",
    "    LOG_EVERY_N = 1000\n",
    "    \n",
    "    for note in notes[1:]:\n",
    "        if (notes.index(note) % LOG_EVERY_N) == 0:\n",
    "            print (notes.index(note))\n",
    "            \n",
    "        cases = defaultdict(int)\n",
    "        note_names = []\n",
    "        matches = Make_matches(note[2])\n",
    "        \n",
    "        for match in matches:\n",
    "            first, middle, last, nick = match.fact\n",
    "            string = ''\n",
    "            for sec in first, middle, last, nick:\n",
    "                if sec != None:\n",
    "                    string += str(sec) + ' '\n",
    "            note_names.append(string[:-1])\n",
    "        \n",
    "        for name in note_names:\n",
    "            cases[name] += 1\n",
    "            \n",
    "        if len(note) >= 4:\n",
    "            arr = [note[0], note[1], note[3]]\n",
    "        else:\n",
    "            arr = [note[0], note[1], \"Not known\"]\n",
    "        tups = []\n",
    "        \n",
    "        for key in cases:\n",
    "            tups.append((key, cases[key]))\n",
    "        arr.append(tups)\n",
    "        all_names.append(arr)\n",
    "    return(all_names)"
   ]
  },
  {
   "cell_type": "code",
   "execution_count": 7,
   "metadata": {
    "scrolled": true
   },
   "outputs": [
    {
     "name": "stdout",
     "output_type": "stream",
     "text": [
      "1000\n",
      "2000\n",
      "3000\n",
      "4000\n",
      "5000\n",
      "6000\n",
      "7000\n",
      "8000\n",
      "9000\n",
      "Duration: 0:59:48.644688\n"
     ]
    }
   ],
   "source": [
    "start_time = datetime.now()\n",
    "all_names = []\n",
    "names_all = Extract_names(notes, all_names)\n",
    "end_time = datetime.now()\n",
    "print('Duration: {}'.format(end_time - start_time))"
   ]
  },
  {
   "cell_type": "code",
   "execution_count": 8,
   "metadata": {},
   "outputs": [
    {
     "data": {
      "text/plain": [
       "9999"
      ]
     },
     "execution_count": 8,
     "metadata": {},
     "output_type": "execute_result"
    }
   ],
   "source": [
    "len(names_all)"
   ]
  },
  {
   "cell_type": "code",
   "execution_count": 10,
   "metadata": {
    "collapsed": true
   },
   "outputs": [],
   "source": [
    "with open(\"батничек.csv\", 'w', encoding='utf-8') as f:\n",
    "    for name in names_all:\n",
    "        f.write(str(name)+'\\n')"
   ]
  },
  {
   "cell_type": "code",
   "execution_count": 11,
   "metadata": {
    "collapsed": true
   },
   "outputs": [],
   "source": [
    "def file_walker(file):\n",
    "    rows = []\n",
    "    with open(file, 'r', encoding='utf-8') as f:\n",
    "        train = f.readlines()\n",
    "    for line in train:\n",
    "        line = line.strip('\\n')\n",
    "        sets = line.split(',#')\n",
    "        for setr in range(len(sets)):\n",
    "            sets[setr] = sets[setr].strip(',#')\n",
    "        rows.append(sets)\n",
    "    return rows"
   ]
  },
  {
   "cell_type": "code",
   "execution_count": 12,
   "metadata": {},
   "outputs": [
    {
     "name": "stdout",
     "output_type": "stream",
     "text": [
      "Duration: 0:00:00.027002\n"
     ]
    }
   ],
   "source": [
    "start_time = datetime.now()\n",
    "diary = file_walker('diary.csv')\n",
    "diaryid_persid = {}\n",
    "for diar in diary[1:]:\n",
    "    #print(diar)\n",
    "    diaryid_persid[diar[0]] = diar[1]\n",
    "end_time = datetime.now()\n",
    "print('Duration: {}'.format(end_time - start_time))"
   ]
  },
  {
   "cell_type": "code",
   "execution_count": 13,
   "metadata": {
    "collapsed": true,
    "scrolled": true
   },
   "outputs": [],
   "source": [
    "final_data = [['note_id', 'diary_id', 'author_id', 'note_date', 'people']]\n",
    "for name in names_all:\n",
    "    #print(name[2])\n",
    "    final_data.append([name[0], name[1], diaryid_persid[name[1]], name[2], name[3]])"
   ]
  },
  {
   "cell_type": "code",
   "execution_count": 14,
   "metadata": {},
   "outputs": [
    {
     "name": "stdout",
     "output_type": "stream",
     "text": [
      "Duration: 0:00:00.225944\n"
     ]
    }
   ],
   "source": [
    "start_time = datetime.now()\n",
    "with open(\"rec_persons.csv\", 'w', encoding='utf-8') as f:\n",
    "    for header in final_data[0]:\n",
    "        if header != final_data[0][-1]:\n",
    "            f.write(str(header)+',#')\n",
    "        if header == final_data[0][-1]:\n",
    "            f.write(str(header)+'\\n')\n",
    "    for data in final_data[1:]:\n",
    "        if len(data[-1]) != 0:\n",
    "            for content in data:\n",
    "                if content != data[-1]:\n",
    "                    f.write(str(content)+',#')\n",
    "                if content == data[-1]:\n",
    "                    f.write('\"')\n",
    "                    for tup in content:\n",
    "                        if tup != content[-1]:\n",
    "                            f.write(str(tup[0])+'->'+str(tup[1])+',')\n",
    "                        else:\n",
    "                            f.write(str(tup[0])+'->'+str(tup[1])+'\"\\n')\n",
    "        else:\n",
    "            for content in data:\n",
    "                if content != data[-1]:\n",
    "                    f.write(str(content)+',#')\n",
    "                if content == data[-1]:\n",
    "                    f.write('\\n')\n",
    "end_time = datetime.now()\n",
    "print('Duration: {}'.format(end_time - start_time))"
   ]
  },
  {
   "cell_type": "code",
   "execution_count": null,
   "metadata": {
    "collapsed": true
   },
   "outputs": [],
   "source": [
    
   ]
  }
 ],
 "metadata": {
  "kernelspec": {
   "display_name": "Python 3",
   "language": "python",
   "name": "python3"
  },
  "language_info": {
   "codemirror_mode": {
    "name": "ipython",
    "version": 3
   },
   "file_extension": ".py",
   "mimetype": "text/x-python",
   "name": "python",
   "nbconvert_exporter": "python",
   "pygments_lexer": "ipython3",
   "version": "3.6.2"
  }
 },
 "nbformat": 4,
 "nbformat_minor": 2
}
